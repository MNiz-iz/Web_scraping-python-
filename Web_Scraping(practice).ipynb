{
  "nbformat": 4,
  "nbformat_minor": 0,
  "metadata": {
    "colab": {
      "provenance": []
    },
    "kernelspec": {
      "name": "python3",
      "display_name": "Python 3"
    },
    "language_info": {
      "name": "python"
    }
  },
  "cells": [
    {
      "cell_type": "markdown",
      "source": [
        "## Part 1\n",
        "Write your scraping (spider) code here:\n",
        "\n",
        "[hint](https://stackoverflow.com/questions/34589064/beautifulsoup-get-the-class-text) on get text class in html tag "
      ],
      "metadata": {
        "id": "uz3O0emZkhSN"
      }
    },
    {
      "cell_type": "code",
      "source": [
        "import pandas as pd\n",
        "import json\n",
        "import re"
      ],
      "metadata": {
        "id": "Ur-5mAo837BC"
      },
      "execution_count": null,
      "outputs": []
    },
    {
      "cell_type": "code",
      "execution_count": null,
      "metadata": {
        "id": "6PI5pRx_jTdv"
      },
      "outputs": [],
      "source": [
        "from bs4 import BeautifulSoup\n",
        "import requests\n",
        "\n",
        "books = []\n",
        "books_json = []\n",
        "\n",
        "#all of page link in this web (50 page)\n",
        "for i in range (1,51):\n",
        "  url = f\"https://books.toscrape.com/catalogue/page-{i}.html\"\n",
        "  r = requests.get(url)\n",
        "  soup = BeautifulSoup(r.content, \"html.parser\")\n",
        "\n",
        "  #all of name books in this page link\n",
        "  for div in soup.find_all('div', {'class':'image_container'}):\n",
        "    \n",
        "    project_href = [i['href'] for i in div.find_all('a', href=True) if i['href'] != \"#\"]\n",
        "    #loop for scrapping in 1 books with link all of book in this page\n",
        "    for href in project_href:\n",
        "      link = f\"https://books.toscrape.com/catalogue/{href}\"\n",
        "      res = requests.get(link)\n",
        "      s = BeautifulSoup(res.content, \"html.parser\")\n",
        "      #find table in this page of book\n",
        "      data_table = s.find('table', {'class': 'table table-striped'})\n",
        "      table_val = []\n",
        "\n",
        "      UPC = []\n",
        "      ProductType = []\n",
        "      Availability = []\n",
        "      reviews = []\n",
        "      \n",
        "      #SCRAPPING DATA FROM TABLE IN HTML (upc price avai reviews)\n",
        "      \n",
        "      for i in data_table.find_all('tr')[0:]:\n",
        "          td_tags = i.find_all('td')\n",
        "          for a in td_tags:\n",
        "            #check if tr = 5 (Availability) use a regular expression\n",
        "            if i.find('th') in data_table.find_all('th')[5:6]:\n",
        "              string_pattern = r\"\\d{2}|\\d{1}\"\n",
        "              regex_pattern = re.compile(string_pattern)\n",
        "              td_val = regex_pattern.findall(a.text)\n",
        "            else:\n",
        "              td_val = a.text \n",
        "          table_val.append(td_val)\n",
        "\n",
        "      #save data from table to dataframe\n",
        "      dataf = pd.DataFrame(data=table_val)\n",
        "      #assign data from table (dataf)\n",
        "      for num in dataf:\n",
        "        UPC = dataf[num][0]\n",
        "        ProductType = dataf[num][1]\n",
        "        Availability = dataf[num][5][0]\n",
        "        reviews = dataf[num][6]\n",
        "      \n",
        "      #assign title from tag h1\n",
        "      title = s.find(class_=\"col-sm-6 product_main\").find(\"h1\").text\n",
        "      #assign price\n",
        "      price = s.find('p', {\"class\": \"price_color\"}).get_text()\n",
        "      price = float(price[1:])\n",
        "      #assign ratting from tag p in class star-rating\n",
        "      star = s.find('p', {\"class\": \"star-rating\"})\n",
        "      star = star['class'][1]\n",
        "      ratting = star\n",
        "      #if check description if no description assing description = NaN\n",
        "      if s.find('div', {\"class\": \"alert alert-warning\"}).find_next('div').has_attr('id'):\n",
        "        description = s.find('div', {\"id\": \"product_description\"}).find_next(\"p\").get_text()\n",
        "      else: description = \"NaN\"\n",
        "\n",
        "    #append data to books lists\n",
        "    books.append([title,price,ratting,description,UPC,ProductType,Availability,reviews])\n",
        "      "
      ]
    },
    {
      "cell_type": "code",
      "source": [
        "#string_pattern2 = r\"\\d{2}|\\d{1}\"\n",
        "#number = \"available is 2\"\n",
        "#regex_pattern2 = re.compile(string_pattern2)\n",
        "#test = regex_pattern2.findall(number)\n",
        "print(dataf[num][5][0])\n"
      ],
      "metadata": {
        "colab": {
          "base_uri": "https://localhost:8080/"
        },
        "id": "myq1k9XB78uG",
        "outputId": "af941342-a813-4d88-ebb1-4b0f513a4a2d"
      },
      "execution_count": null,
      "outputs": [
        {
          "output_type": "stream",
          "name": "stdout",
          "text": [
            "1\n"
          ]
        }
      ]
    },
    {
      "cell_type": "markdown",
      "source": [
        "SAVE lists of books to dataframe"
      ],
      "metadata": {
        "id": "TjZNP09TZFCf"
      }
    },
    {
      "cell_type": "code",
      "source": [
        "#save lists data to dataframe\n",
        "booksDF = pd.DataFrame(data=books, columns=['title','price','ratting','description','UPC','Product type','available','number of reviews'])"
      ],
      "metadata": {
        "id": "jpYI74F8_oxa"
      },
      "execution_count": null,
      "outputs": []
    },
    {
      "cell_type": "code",
      "source": [
        "#dataframe\n",
        "booksDF"
      ],
      "metadata": {
        "colab": {
          "base_uri": "https://localhost:8080/",
          "height": 1000
        },
        "id": "ol3M91NZHnwC",
        "outputId": "c5365057-7359-4bc7-cbbf-f150f5dccf15"
      },
      "execution_count": null,
      "outputs": [
        {
          "output_type": "execute_result",
          "data": {
            "text/plain": [
              "                                                 title  price ratting                                        description               UPC Product type available number of reviews\n",
              "0                                 A Light in the Attic  51.77   Three  It's hard to imagine a world without A Light i...  a897fe39b1053632        Books        22                 0\n",
              "1                                   Tipping the Velvet  53.74     One  \"Erotic and absorbing...Written with starling ...  90fa61229261140a        Books        20                 0\n",
              "2                                           Soumission  50.10     One  Dans une France assez proche de la nôtre, un h...  6957f44c3847a760        Books        20                 0\n",
              "3                                        Sharp Objects  47.82    Four  WICKED above her hipbone, GIRL across her hear...  e00eb4fd7b871a48        Books        20                 0\n",
              "4                Sapiens: A Brief History of Humankind  54.23    Five  From a renowned historian comes a groundbreaki...  4165285e1663650f        Books        20                 0\n",
              "..                                                 ...    ...     ...                                                ...               ...          ...       ...               ...\n",
              "995  Alice in Wonderland (Alice's Adventures in Won...  55.53     One                                                NaN  cd2a2a70dd5d176d        Books         1                 0\n",
              "996   Ajin: Demi-Human, Volume 1 (Ajin: Demi-Human #1)  57.06    Four  High school student Kei Nagai is struck dead i...  bfd5e1701c862ac3        Books         1                 0\n",
              "997  A Spy's Devotion (The Regency Spies of London #1)  16.97    Five  In England’s Regency era, manners and elegance...  19fec36a1dfb4c16        Books         1                 0\n",
              "998                1st to Die (Women's Murder Club #1)  53.98     One  James Patterson, bestselling author of the Ale...  f684a82adc49f011        Books         1                 0\n",
              "999                 1,000 Places to See Before You Die  26.08    Five  Around the World, continent by continent, here...  228ba5e7577e1d49        Books         1                 0\n",
              "\n",
              "[1000 rows x 8 columns]"
            ],
            "text/html": [
              "\n",
              "  <div id=\"df-3ad0a4ae-a703-46ef-8ef4-3ac43a97611c\">\n",
              "    <div class=\"colab-df-container\">\n",
              "      <div>\n",
              "<style scoped>\n",
              "    .dataframe tbody tr th:only-of-type {\n",
              "        vertical-align: middle;\n",
              "    }\n",
              "\n",
              "    .dataframe tbody tr th {\n",
              "        vertical-align: top;\n",
              "    }\n",
              "\n",
              "    .dataframe thead th {\n",
              "        text-align: right;\n",
              "    }\n",
              "</style>\n",
              "<table border=\"1\" class=\"dataframe\">\n",
              "  <thead>\n",
              "    <tr style=\"text-align: right;\">\n",
              "      <th></th>\n",
              "      <th>title</th>\n",
              "      <th>price</th>\n",
              "      <th>ratting</th>\n",
              "      <th>description</th>\n",
              "      <th>UPC</th>\n",
              "      <th>Product type</th>\n",
              "      <th>available</th>\n",
              "      <th>number of reviews</th>\n",
              "    </tr>\n",
              "  </thead>\n",
              "  <tbody>\n",
              "    <tr>\n",
              "      <th>0</th>\n",
              "      <td>A Light in the Attic</td>\n",
              "      <td>51.77</td>\n",
              "      <td>Three</td>\n",
              "      <td>It's hard to imagine a world without A Light i...</td>\n",
              "      <td>a897fe39b1053632</td>\n",
              "      <td>Books</td>\n",
              "      <td>22</td>\n",
              "      <td>0</td>\n",
              "    </tr>\n",
              "    <tr>\n",
              "      <th>1</th>\n",
              "      <td>Tipping the Velvet</td>\n",
              "      <td>53.74</td>\n",
              "      <td>One</td>\n",
              "      <td>\"Erotic and absorbing...Written with starling ...</td>\n",
              "      <td>90fa61229261140a</td>\n",
              "      <td>Books</td>\n",
              "      <td>20</td>\n",
              "      <td>0</td>\n",
              "    </tr>\n",
              "    <tr>\n",
              "      <th>2</th>\n",
              "      <td>Soumission</td>\n",
              "      <td>50.10</td>\n",
              "      <td>One</td>\n",
              "      <td>Dans une France assez proche de la nôtre, un h...</td>\n",
              "      <td>6957f44c3847a760</td>\n",
              "      <td>Books</td>\n",
              "      <td>20</td>\n",
              "      <td>0</td>\n",
              "    </tr>\n",
              "    <tr>\n",
              "      <th>3</th>\n",
              "      <td>Sharp Objects</td>\n",
              "      <td>47.82</td>\n",
              "      <td>Four</td>\n",
              "      <td>WICKED above her hipbone, GIRL across her hear...</td>\n",
              "      <td>e00eb4fd7b871a48</td>\n",
              "      <td>Books</td>\n",
              "      <td>20</td>\n",
              "      <td>0</td>\n",
              "    </tr>\n",
              "    <tr>\n",
              "      <th>4</th>\n",
              "      <td>Sapiens: A Brief History of Humankind</td>\n",
              "      <td>54.23</td>\n",
              "      <td>Five</td>\n",
              "      <td>From a renowned historian comes a groundbreaki...</td>\n",
              "      <td>4165285e1663650f</td>\n",
              "      <td>Books</td>\n",
              "      <td>20</td>\n",
              "      <td>0</td>\n",
              "    </tr>\n",
              "    <tr>\n",
              "      <th>...</th>\n",
              "      <td>...</td>\n",
              "      <td>...</td>\n",
              "      <td>...</td>\n",
              "      <td>...</td>\n",
              "      <td>...</td>\n",
              "      <td>...</td>\n",
              "      <td>...</td>\n",
              "      <td>...</td>\n",
              "    </tr>\n",
              "    <tr>\n",
              "      <th>995</th>\n",
              "      <td>Alice in Wonderland (Alice's Adventures in Won...</td>\n",
              "      <td>55.53</td>\n",
              "      <td>One</td>\n",
              "      <td>NaN</td>\n",
              "      <td>cd2a2a70dd5d176d</td>\n",
              "      <td>Books</td>\n",
              "      <td>1</td>\n",
              "      <td>0</td>\n",
              "    </tr>\n",
              "    <tr>\n",
              "      <th>996</th>\n",
              "      <td>Ajin: Demi-Human, Volume 1 (Ajin: Demi-Human #1)</td>\n",
              "      <td>57.06</td>\n",
              "      <td>Four</td>\n",
              "      <td>High school student Kei Nagai is struck dead i...</td>\n",
              "      <td>bfd5e1701c862ac3</td>\n",
              "      <td>Books</td>\n",
              "      <td>1</td>\n",
              "      <td>0</td>\n",
              "    </tr>\n",
              "    <tr>\n",
              "      <th>997</th>\n",
              "      <td>A Spy's Devotion (The Regency Spies of London #1)</td>\n",
              "      <td>16.97</td>\n",
              "      <td>Five</td>\n",
              "      <td>In England’s Regency era, manners and elegance...</td>\n",
              "      <td>19fec36a1dfb4c16</td>\n",
              "      <td>Books</td>\n",
              "      <td>1</td>\n",
              "      <td>0</td>\n",
              "    </tr>\n",
              "    <tr>\n",
              "      <th>998</th>\n",
              "      <td>1st to Die (Women's Murder Club #1)</td>\n",
              "      <td>53.98</td>\n",
              "      <td>One</td>\n",
              "      <td>James Patterson, bestselling author of the Ale...</td>\n",
              "      <td>f684a82adc49f011</td>\n",
              "      <td>Books</td>\n",
              "      <td>1</td>\n",
              "      <td>0</td>\n",
              "    </tr>\n",
              "    <tr>\n",
              "      <th>999</th>\n",
              "      <td>1,000 Places to See Before You Die</td>\n",
              "      <td>26.08</td>\n",
              "      <td>Five</td>\n",
              "      <td>Around the World, continent by continent, here...</td>\n",
              "      <td>228ba5e7577e1d49</td>\n",
              "      <td>Books</td>\n",
              "      <td>1</td>\n",
              "      <td>0</td>\n",
              "    </tr>\n",
              "  </tbody>\n",
              "</table>\n",
              "<p>1000 rows × 8 columns</p>\n",
              "</div>\n",
              "      <button class=\"colab-df-convert\" onclick=\"convertToInteractive('df-3ad0a4ae-a703-46ef-8ef4-3ac43a97611c')\"\n",
              "              title=\"Convert this dataframe to an interactive table.\"\n",
              "              style=\"display:none;\">\n",
              "        \n",
              "  <svg xmlns=\"http://www.w3.org/2000/svg\" height=\"24px\"viewBox=\"0 0 24 24\"\n",
              "       width=\"24px\">\n",
              "    <path d=\"M0 0h24v24H0V0z\" fill=\"none\"/>\n",
              "    <path d=\"M18.56 5.44l.94 2.06.94-2.06 2.06-.94-2.06-.94-.94-2.06-.94 2.06-2.06.94zm-11 1L8.5 8.5l.94-2.06 2.06-.94-2.06-.94L8.5 2.5l-.94 2.06-2.06.94zm10 10l.94 2.06.94-2.06 2.06-.94-2.06-.94-.94-2.06-.94 2.06-2.06.94z\"/><path d=\"M17.41 7.96l-1.37-1.37c-.4-.4-.92-.59-1.43-.59-.52 0-1.04.2-1.43.59L10.3 9.45l-7.72 7.72c-.78.78-.78 2.05 0 2.83L4 21.41c.39.39.9.59 1.41.59.51 0 1.02-.2 1.41-.59l7.78-7.78 2.81-2.81c.8-.78.8-2.07 0-2.86zM5.41 20L4 18.59l7.72-7.72 1.47 1.35L5.41 20z\"/>\n",
              "  </svg>\n",
              "      </button>\n",
              "      \n",
              "  <style>\n",
              "    .colab-df-container {\n",
              "      display:flex;\n",
              "      flex-wrap:wrap;\n",
              "      gap: 12px;\n",
              "    }\n",
              "\n",
              "    .colab-df-convert {\n",
              "      background-color: #E8F0FE;\n",
              "      border: none;\n",
              "      border-radius: 50%;\n",
              "      cursor: pointer;\n",
              "      display: none;\n",
              "      fill: #1967D2;\n",
              "      height: 32px;\n",
              "      padding: 0 0 0 0;\n",
              "      width: 32px;\n",
              "    }\n",
              "\n",
              "    .colab-df-convert:hover {\n",
              "      background-color: #E2EBFA;\n",
              "      box-shadow: 0px 1px 2px rgba(60, 64, 67, 0.3), 0px 1px 3px 1px rgba(60, 64, 67, 0.15);\n",
              "      fill: #174EA6;\n",
              "    }\n",
              "\n",
              "    [theme=dark] .colab-df-convert {\n",
              "      background-color: #3B4455;\n",
              "      fill: #D2E3FC;\n",
              "    }\n",
              "\n",
              "    [theme=dark] .colab-df-convert:hover {\n",
              "      background-color: #434B5C;\n",
              "      box-shadow: 0px 1px 3px 1px rgba(0, 0, 0, 0.15);\n",
              "      filter: drop-shadow(0px 1px 2px rgba(0, 0, 0, 0.3));\n",
              "      fill: #FFFFFF;\n",
              "    }\n",
              "  </style>\n",
              "\n",
              "      <script>\n",
              "        const buttonEl =\n",
              "          document.querySelector('#df-3ad0a4ae-a703-46ef-8ef4-3ac43a97611c button.colab-df-convert');\n",
              "        buttonEl.style.display =\n",
              "          google.colab.kernel.accessAllowed ? 'block' : 'none';\n",
              "\n",
              "        async function convertToInteractive(key) {\n",
              "          const element = document.querySelector('#df-3ad0a4ae-a703-46ef-8ef4-3ac43a97611c');\n",
              "          const dataTable =\n",
              "            await google.colab.kernel.invokeFunction('convertToInteractive',\n",
              "                                                     [key], {});\n",
              "          if (!dataTable) return;\n",
              "\n",
              "          const docLinkHtml = 'Like what you see? Visit the ' +\n",
              "            '<a target=\"_blank\" href=https://colab.research.google.com/notebooks/data_table.ipynb>data table notebook</a>'\n",
              "            + ' to learn more about interactive tables.';\n",
              "          element.innerHTML = '';\n",
              "          dataTable['output_type'] = 'display_data';\n",
              "          await google.colab.output.renderOutput(dataTable, element);\n",
              "          const docLink = document.createElement('div');\n",
              "          docLink.innerHTML = docLinkHtml;\n",
              "          element.appendChild(docLink);\n",
              "        }\n",
              "      </script>\n",
              "    </div>\n",
              "  </div>\n",
              "  "
            ]
          },
          "metadata": {},
          "execution_count": 236
        }
      ]
    },
    {
      "cell_type": "markdown",
      "source": [
        "SAVE to json file (name = data_bookINDEX.json)"
      ],
      "metadata": {
        "id": "Zih6LpFIY4_u"
      }
    },
    {
      "cell_type": "code",
      "source": [
        "#save dataframe to json file\n",
        "booksJSON = booksDF.to_json('data_bookINDEX.json',orient=\"index\")"
      ],
      "metadata": {
        "id": "0p_7GOalTrxC"
      },
      "execution_count": null,
      "outputs": []
    },
    {
      "cell_type": "code",
      "source": [
        "#load json file\n",
        "fileJSON = open('/content/data_bookINDEX.json','r')\n",
        "data_json = json.loads(fileJSON.read())\n",
        "#check data in json file index 0\n",
        "data_json['0']"
      ],
      "metadata": {
        "colab": {
          "base_uri": "https://localhost:8080/"
        },
        "id": "Iblv0b8aXSgK",
        "outputId": "c25f4af1-0f91-4db3-ea43-e3d537109276"
      },
      "execution_count": null,
      "outputs": [
        {
          "output_type": "execute_result",
          "data": {
            "text/plain": [
              "{'title': 'A Light in the Attic',\n",
              " 'price': 51.77,\n",
              " 'ratting': 'Three',\n",
              " 'description': \"It's hard to imagine a world without A Light in the Attic. This now-classic collection of poetry and drawings from Shel Silverstein celebrates its 20th anniversary with this special edition. Silverstein's humorous and creative verse can amuse the dowdiest of readers. Lemon-faced adults and fidgety kids sit still and read these rhythmic words and laugh and smile and love th It's hard to imagine a world without A Light in the Attic. This now-classic collection of poetry and drawings from Shel Silverstein celebrates its 20th anniversary with this special edition. Silverstein's humorous and creative verse can amuse the dowdiest of readers. Lemon-faced adults and fidgety kids sit still and read these rhythmic words and laugh and smile and love that Silverstein. Need proof of his genius? RockabyeRockabye baby, in the treetopDon't you know a treetopIs no safe place to rock?And who put you up there,And your cradle, too?Baby, I think someone down here'sGot it in for you. Shel, you never sounded so good. ...more\",\n",
              " 'UPC': 'a897fe39b1053632',\n",
              " 'Product type': 'Books',\n",
              " 'available': '22',\n",
              " 'number of reviews': '0'}"
            ]
          },
          "metadata": {},
          "execution_count": 238
        }
      ]
    },
    {
      "cell_type": "markdown",
      "source": [
        "save dataframe to csv (name = data_books.csv)"
      ],
      "metadata": {
        "id": "5s-McAfGZVtw"
      }
    },
    {
      "cell_type": "code",
      "source": [
        "#save dataframe to csv\n",
        "booksDF.to_csv('data_books.csv')"
      ],
      "metadata": {
        "id": "UFBSjH3y4PX7"
      },
      "execution_count": null,
      "outputs": []
    },
    {
      "cell_type": "code",
      "source": [
        "#show csv\n",
        "books_details = pd.read_csv('/content/data_books.csv')\n",
        "pd.set_option('expand_frame_repr', False)\n",
        "\n",
        "books_details = books_details.drop(books_details.columns[[0]], axis = 1)\n",
        "print(books_details)"
      ],
      "metadata": {
        "colab": {
          "base_uri": "https://localhost:8080/"
        },
        "id": "8jUBHJk1UzGq",
        "outputId": "6f9d8509-cba2-432c-bcd7-02092ae12b12"
      },
      "execution_count": null,
      "outputs": [
        {
          "output_type": "stream",
          "name": "stdout",
          "text": [
            "                                                 title  price ratting                                        description               UPC Product type  available  number of reviews\n",
            "0                                 A Light in the Attic  51.77   Three  It's hard to imagine a world without A Light i...  a897fe39b1053632        Books         22                  0\n",
            "1                                   Tipping the Velvet  53.74     One  \"Erotic and absorbing...Written with starling ...  90fa61229261140a        Books         20                  0\n",
            "2                                           Soumission  50.10     One  Dans une France assez proche de la nôtre, un h...  6957f44c3847a760        Books         20                  0\n",
            "3                                        Sharp Objects  47.82    Four  WICKED above her hipbone, GIRL across her hear...  e00eb4fd7b871a48        Books         20                  0\n",
            "4                Sapiens: A Brief History of Humankind  54.23    Five  From a renowned historian comes a groundbreaki...  4165285e1663650f        Books         20                  0\n",
            "..                                                 ...    ...     ...                                                ...               ...          ...        ...                ...\n",
            "995  Alice in Wonderland (Alice's Adventures in Won...  55.53     One                                                NaN  cd2a2a70dd5d176d        Books          1                  0\n",
            "996   Ajin: Demi-Human, Volume 1 (Ajin: Demi-Human #1)  57.06    Four  High school student Kei Nagai is struck dead i...  bfd5e1701c862ac3        Books          1                  0\n",
            "997  A Spy's Devotion (The Regency Spies of London #1)  16.97    Five  In England’s Regency era, manners and elegance...  19fec36a1dfb4c16        Books          1                  0\n",
            "998                1st to Die (Women's Murder Club #1)  53.98     One  James Patterson, bestselling author of the Ale...  f684a82adc49f011        Books          1                  0\n",
            "999                 1,000 Places to See Before You Die  26.08    Five  Around the World, continent by continent, here...  228ba5e7577e1d49        Books          1                  0\n",
            "\n",
            "[1000 rows x 8 columns]\n"
          ]
        }
      ]
    },
    {
      "cell_type": "markdown",
      "source": [
        "## Part 2 \n",
        "Please perform data manipulation on the crawled dataset and answer the below questions. \n",
        "\n",
        "Q1. **[1000]** What is the total number of books on the website?\n",
        "\n",
        "Q2. **[35.07035]**  What is the average book price?\n",
        "\n",
        "Q3. **[8.585]**  what is the average Availability of books?\n",
        "\n",
        "Q4. **[rating distribution one : 226\n",
        "      rating distribution two : 196\n",
        "      rating distribution three : 203\n",
        "      rating distribution four : 179\n",
        "      rating distribution five : 196]** What is the distribution of book ratings? (count the number of a book for each star rate) \n",
        "\n",
        "\n",
        "Note that you must show with the code below how you reached the answer.\n"
      ],
      "metadata": {
        "id": "OaeIj11c5eJB"
      }
    },
    {
      "cell_type": "code",
      "source": [
        "#Q1 What is the total number of books on the website?\n",
        "sum_ofbooks = len(books_details.index)\n",
        "print(sum_ofbooks)\n",
        "#Q2  What is the average book price?\n",
        "avg_ofprice = books_details['price'].mean()\n",
        "print(avg_ofprice)\n",
        "#Q3 what is the average Availability of books?\n",
        "avg_ofbook = books_details['available'].mean()\n",
        "print(avg_ofbook)\n",
        "#Q4 What is the distribution of book ratings?\n",
        "book_ratting_one = books_details['ratting'].value_counts()['One']\n",
        "book_ratting_two = books_details['ratting'].value_counts()['Two']\n",
        "book_ratting_three = books_details['ratting'].value_counts()['Three']\n",
        "book_ratting_four = books_details['ratting'].value_counts()['Four']\n",
        "book_ratting_five = books_details['ratting'].value_counts()['Five']\n",
        "print('rating distribution one : '+str(book_ratting_one))\n",
        "print('rating distribution two : '+str(book_ratting_two))\n",
        "print('rating distribution three : '+str(book_ratting_three))\n",
        "print('rating distribution four : '+str(book_ratting_four))\n",
        "print('rating distribution five : '+str(book_ratting_five))"
      ],
      "metadata": {
        "colab": {
          "base_uri": "https://localhost:8080/"
        },
        "id": "pwkh9uuvac4o",
        "outputId": "3387357d-a53b-4df6-c78d-b0d1b3264dd4"
      },
      "execution_count": null,
      "outputs": [
        {
          "output_type": "stream",
          "name": "stdout",
          "text": [
            "1000\n",
            "35.07035\n",
            "8.585\n",
            "rating distribution one : 226\n",
            "rating distribution two : 196\n",
            "rating distribution three : 203\n",
            "rating distribution four : 179\n",
            "rating distribution five : 196\n"
          ]
        }
      ]
    },
    {
      "cell_type": "code",
      "source": [],
      "metadata": {
        "colab": {
          "base_uri": "https://localhost:8080/"
        },
        "id": "A9YftiR911B_",
        "outputId": "24a3bce1-c0bd-4218-ad91-90380aefc0b1"
      },
      "execution_count": null,
      "outputs": [
        {
          "output_type": "stream",
          "name": "stdout",
          "text": [
            "                                                 title  price rating                                        description               UPC Product Type  Availability  Number of reviews\n",
            "0                                 A Light in the Attic  51.77  Three  It's hard to imagine a world without A Light i...  a897fe39b1053632        Books            22                  0\n",
            "1                                   Tipping the Velvet  53.74    One  \"Erotic and absorbing...Written with starling ...  90fa61229261140a        Books            20                  0\n",
            "2                                           Soumission  50.10    One  Dans une France assez proche de la nôtre, un h...  6957f44c3847a760        Books            20                  0\n",
            "3                                        Sharp Objects  47.82   Four  WICKED above her hipbone, GIRL across her hear...  e00eb4fd7b871a48        Books            20                  0\n",
            "4                Sapiens: A Brief History of Humankind  54.23   Five  From a renowned historian comes a groundbreaki...  4165285e1663650f        Books            20                  0\n",
            "..                                                 ...    ...    ...                                                ...               ...          ...           ...                ...\n",
            "995  Alice in Wonderland (Alice's Adventures in Won...  55.53    One                                                NaN  cd2a2a70dd5d176d        Books             1                  0\n",
            "996   Ajin: Demi-Human, Volume 1 (Ajin: Demi-Human #1)  57.06   Four  High school student Kei Nagai is struck dead i...  bfd5e1701c862ac3        Books             1                  0\n",
            "997  A Spy's Devotion (The Regency Spies of London #1)  16.97   Five  In England’s Regency era, manners and elegance...  19fec36a1dfb4c16        Books             1                  0\n",
            "998                1st to Die (Women's Murder Club #1)  53.98    One  James Patterson, bestselling author of the Ale...  f684a82adc49f011        Books             1                  0\n",
            "999                 1,000 Places to See Before You Die  26.08   Five  Around the World, continent by continent, here...  228ba5e7577e1d49        Books             1                  0\n",
            "\n",
            "[1000 rows x 8 columns]\n",
            "Number of books = 1000\n",
            "avg book price = 35.07035\n",
            "avg Availability of books = 8.585\n",
            "rating distribution  One      226\n",
            "Three    203\n",
            "Five     196\n",
            "Two      196\n",
            "Four     179\n",
            "Name: rating, dtype: int64\n"
          ]
        }
      ]
    }
  ]
}
